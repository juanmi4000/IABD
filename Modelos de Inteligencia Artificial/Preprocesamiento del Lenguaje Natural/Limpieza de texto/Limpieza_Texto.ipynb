{
  "nbformat": 4,
  "nbformat_minor": 0,
  "metadata": {
    "colab": {
      "provenance": []
    },
    "kernelspec": {
      "name": "python3",
      "display_name": "Python 3"
    },
    "language_info": {
      "name": "python"
    }
  },
  "cells": [
    {
      "cell_type": "markdown",
      "source": [
        "Importación de librerías"
      ],
      "metadata": {
        "id": "UK2SXv-Lf7_B"
      }
    },
    {
      "cell_type": "code",
      "source": [
        "import re\n",
        "import unicodedata\n",
        "from nltk.corpus import stopwords\n",
        "from nltk.stem import SnowballStemmer\n",
        "from nltk.tokenize import word_tokenize\n",
        "import nltk\n",
        "from google.colab import drive"
      ],
      "metadata": {
        "id": "sNpDBk6Xg-J5"
      },
      "execution_count": 25,
      "outputs": []
    },
    {
      "cell_type": "code",
      "source": [
        "nltk.download('stopwords')\n",
        "nltk.download('punkt')\n",
        "nltk.download('perluniprops')"
      ],
      "metadata": {
        "colab": {
          "base_uri": "https://localhost:8080/"
        },
        "id": "bWB_ax3mnUcp",
        "outputId": "1251ecdf-445a-4cb3-cb24-1ad5b6ff53b8"
      },
      "execution_count": 26,
      "outputs": [
        {
          "output_type": "stream",
          "name": "stderr",
          "text": [
            "[nltk_data] Downloading package stopwords to /root/nltk_data...\n",
            "[nltk_data]   Package stopwords is already up-to-date!\n",
            "[nltk_data] Downloading package punkt to /root/nltk_data...\n",
            "[nltk_data]   Package punkt is already up-to-date!\n",
            "[nltk_data] Downloading package perluniprops to /root/nltk_data...\n",
            "[nltk_data]   Package perluniprops is already up-to-date!\n"
          ]
        },
        {
          "output_type": "execute_result",
          "data": {
            "text/plain": [
              "True"
            ]
          },
          "metadata": {},
          "execution_count": 26
        }
      ]
    },
    {
      "cell_type": "markdown",
      "source": [
        "Monto el drive para obtener luego el fichero."
      ],
      "metadata": {
        "id": "nalIX3qoiDwJ"
      }
    },
    {
      "cell_type": "code",
      "source": [
        "drive.mount(\"/content/drive\")"
      ],
      "metadata": {
        "colab": {
          "base_uri": "https://localhost:8080/"
        },
        "id": "dv22KtAAiIEJ",
        "outputId": "9c81d819-e5fc-4c5a-ca13-ab3abf086331"
      },
      "execution_count": 27,
      "outputs": [
        {
          "output_type": "stream",
          "name": "stdout",
          "text": [
            "Drive already mounted at /content/drive; to attempt to forcibly remount, call drive.mount(\"/content/drive\", force_remount=True).\n"
          ]
        }
      ]
    },
    {
      "cell_type": "markdown",
      "source": [
        "Función para limpiar el texto."
      ],
      "metadata": {
        "id": "aujC0gKxf_HJ"
      }
    },
    {
      "cell_type": "code",
      "execution_count": 28,
      "metadata": {
        "id": "XgSxTOjserqV"
      },
      "outputs": [],
      "source": [
        "def limpiar_texto(texto):\n",
        "    texto = texto.encode('ascii', 'ignore').decode('ascii')\n",
        "\n",
        "    texto = re.sub(r'http\\S+|www\\S+|https\\S+', '', texto, flags=re.MULTILINE)\n",
        "\n",
        "    texto = re.sub(r'[@#]\\w+', '', texto)\n",
        "\n",
        "    texto = re.sub(r'[^\\w\\s]', ' ', texto)\n",
        "\n",
        "    texto = texto.lower()\n",
        "\n",
        "    # texto = unicodedata.normalize('NFKD', texto).encode('ascii', 'ignore').decode('utf-8', 'ignore') # Elimina las tildes\n",
        "\n",
        "    texto = re.sub(r'\\s+', ' ', texto).strip()\n",
        "\n",
        "    return texto"
      ]
    },
    {
      "cell_type": "markdown",
      "source": [
        "Función para normalizar el texto."
      ],
      "metadata": {
        "id": "pplxvQOshCnp"
      }
    },
    {
      "cell_type": "code",
      "source": [
        "def norm_texto(texto):\n",
        "  texto = limpiar_texto(texto)\n",
        "  tokens = word_tokenize(texto, language='spanish')\n",
        "\n",
        "  stop_words = set(stopwords.words('spanish'))\n",
        "  stop_words.update(['q', 'x', 'd', 'a', 'u', 'si', 'tal', 'vez'])\n",
        "  tokens = [word for word in tokens if word not in stop_words]\n",
        "\n",
        "  stemmer = SnowballStemmer('spanish')\n",
        "  tokens = [stemmer.stem(word) for word in tokens]\n",
        "\n",
        "  texto_limpio = ' '.join(tokens)\n",
        "  texto_limpio = re.sub(r'\\s+', ' ', texto_limpio).strip()\n",
        "\n",
        "  return texto_limpio"
      ],
      "metadata": {
        "id": "-_LXS24VhHmo"
      },
      "execution_count": 31,
      "outputs": []
    },
    {
      "cell_type": "markdown",
      "source": [
        "Ejecución."
      ],
      "metadata": {
        "id": "HAnYEcBqh6MJ"
      }
    },
    {
      "cell_type": "code",
      "source": [
        "texto_original = open(\"/content/drive/MyDrive/IABD/MIA/PLN/TextoAlimpiar.txt\", \"r\").read()\n",
        "\n",
        "texto_limpio = norm_texto(texto_original)\n",
        "print(texto_limpio)"
      ],
      "metadata": {
        "colab": {
          "base_uri": "https://localhost:8080/"
        },
        "id": "Qxraf0kGh8S4",
        "outputId": "e99b3817-4dc0-45c0-cca6-3a38f026742a"
      },
      "execution_count": 33,
      "outputs": [
        {
          "output_type": "stream",
          "name": "stdout",
          "text": [
            "hol cmo ests hoy da proces lenguaj natural pln ram ms import inteligent artificial permit mquin entend proces gener lenguaj human maner eficient embarg model funcion bien fundamental limpi text analiz dat textual suel llen ruid ejempl red social encontr smbol enlac much palabr irrelev afect rendimient model pln pued interpret informacin innecesari mal estructur pas clav limpiez text eliminacin sign puntuacin tambin import convert text minscul palabr pln pln trat igual adems nmer suel elimin aport informacin relev anlisis tcnic til eliminacin stopwords palabr comun aport signific semntic import ayud reduc tama text enfoc anlisis palabr clav stemming lematizacin tcnic transform palabr form raz bas ejempl corr correr reduc corr facilit interpretacin semntic text pln uso expresion regular permit elimin patron especf text til limpi corre electrn nmer telfon direccion web ltim representacin numric text tf idf word embeddings clav entren model aprendizaj automt buen preproces model pued ser men precis ms propens error lug manch cuy nombr quier acord tiemp viv hidalg lanz astiller adarg antigu rocn flac galg corredor olla ms vac carner salpicn ms noch duel quebrant sbad lantej viern algn palomin aadidur doming consum tres part haciend rest dell conclu say velart calz vellud fiest pantufl mesm das entreseman honr vellor ms fin ten cas ama pas cuarent sobrin lleg veint moz camp plaz as ensill rocn tom podader fris edad hidalg cincuent aos complexin reci sec carn enjut rostr gran madrug amig caz quier dec ten sobrenombr quij ques algun diferent autor dest cas escrib aunqu conjetur verosmil dej entend llam quijan import cuent bast narracin dl salg punt verd pues sab sobredich hidalg rat ocios ms ao dab leer libr caballer tant aficin gust olvid casi punt ejercici caz aun administracin haciend lleg curi desatin vendi much haneg tierr sembradur compr libr caballer leer as llev cas cuant pud hab dell ningun parec tan bien compus famos felician silv clarid pros aquell entric razon parec perl ms lleg leer aquell requiebr cart desaf much part hall escrit razn sinrazn razn hac maner razn enflaquec razn quej fermosur tambin lea altos ciel divin divin estrell fortific hac merecedor merec merec grandez razon perd pobr caballer juici desvelb entend desentr sac entend mesm aristtel resucit slo ello bien her don belians dab receb imagin grand maestr cur dej ten rostr cuerp llen cicatric seal alab autor aquel acab libr promes aquell inacab aventur much vec vin dese tom plum dall fin pie letr all promet dud algun hic aun sal ello mayor continu pensamient estorb much vec competent cur lug hombr doct gradu sigenz cul hab sid mejor caballer palmern ingalaterr amads gaul mas maes nicols barber mism puebl dec ningun lleg caballer feb algun pod compar don galaor herman amads gaul ten acomod condicin caballer melindr tan llorn herman valent iba zag resolucin l enfrasc lectur pas noch leyend clar clar das turbi turbi as dorm leer sec celebr maner vin perd juici llensel fantas aquell lea libr as encantament pendenci batall desaf her requiebr amor torment disparat impos asentsel mod imaginacin verd tod aquell mquin aquell soad invencion lea l hab histori ms ciert mund dec l cid ruy daz hab sid buen caballer ten ver caballer ardient espad slo revs hab part medi dos fier descomunal gigant mejor bernard carpi roncesvall hab muert roldn encant valindos industri hrcul ahog ante hij tierr braz dec bien gigant morgant ser aquell generacin gigante soberbi descomed l sol afabl bien cri bien reinald montalbn ms vea sal castill rob cuant top allend rob aquel dol mahom oro segn dic histori dier l dar man coc traidor galaln ama ten aun sobrin aadidur\n"
          ]
        }
      ]
    }
  ]
}