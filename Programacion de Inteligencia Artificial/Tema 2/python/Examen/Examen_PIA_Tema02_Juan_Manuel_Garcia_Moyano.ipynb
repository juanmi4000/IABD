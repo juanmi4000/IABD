{
  "nbformat": 4,
  "nbformat_minor": 0,
  "metadata": {
    "colab": {
      "provenance": []
    },
    "kernelspec": {
      "name": "python3",
      "display_name": "Python 3"
    },
    "language_info": {
      "name": "python"
    }
  },
  "cells": [
    {
      "cell_type": "code",
      "source": [
        "!pip install odfpy"
      ],
      "metadata": {
        "colab": {
          "base_uri": "https://localhost:8080/"
        },
        "id": "VxPADz8nyyIH",
        "outputId": "bcbaf4aa-5944-4a4b-a87a-57fc75381367"
      },
      "execution_count": 5,
      "outputs": [
        {
          "output_type": "stream",
          "name": "stdout",
          "text": [
            "Collecting odfpy\n",
            "  Downloading odfpy-1.4.1.tar.gz (717 kB)\n",
            "\u001b[?25l     \u001b[90m━━━━━━━━━━━━━━━━━━━━━━━━━━━━━━━━━━━━━━━━\u001b[0m \u001b[32m0.0/717.0 kB\u001b[0m \u001b[31m?\u001b[0m eta \u001b[36m-:--:--\u001b[0m\r\u001b[2K     \u001b[90m━━━━━━━━━━━━━━━━━━━━━━━━━━━━━━━━━━━━━━━━\u001b[0m \u001b[32m717.0/717.0 kB\u001b[0m \u001b[31m30.7 MB/s\u001b[0m eta \u001b[36m0:00:00\u001b[0m\n",
            "\u001b[?25h  Preparing metadata (setup.py) ... \u001b[?25l\u001b[?25hdone\n",
            "Requirement already satisfied: defusedxml in /usr/local/lib/python3.10/dist-packages (from odfpy) (0.7.1)\n",
            "Building wheels for collected packages: odfpy\n",
            "  Building wheel for odfpy (setup.py) ... \u001b[?25l\u001b[?25hdone\n",
            "  Created wheel for odfpy: filename=odfpy-1.4.1-py2.py3-none-any.whl size=160672 sha256=bffd6fe8409c108e51afe9cdb300ed900ffc84395b21f100b463cfd9e2bdb636\n",
            "  Stored in directory: /root/.cache/pip/wheels/c8/2e/95/90d94fe33903786937f3b8c33dd88807f792359c6424b40469\n",
            "Successfully built odfpy\n",
            "Installing collected packages: odfpy\n",
            "Successfully installed odfpy-1.4.1\n"
          ]
        }
      ]
    },
    {
      "cell_type": "code",
      "execution_count": 8,
      "metadata": {
        "id": "kDrVnPXWwKKg"
      },
      "outputs": [],
      "source": [
        "import numpy as np\n",
        "import pandas as pd\n",
        "import matplotlib.pyplot as plt\n",
        "from google.colab import drive"
      ]
    },
    {
      "cell_type": "markdown",
      "source": [
        "Ejercicio 1."
      ],
      "metadata": {
        "id": "dYt6rR_33xkH"
      }
    },
    {
      "cell_type": "code",
      "source": [
        "ruta = \"/content/drive/My Drive/IABD/PIA/Tema 2/python/dataset/credit_card_data.ods\"\n",
        "drive.mount('/content/drive')\n",
        "\n",
        "transacciones, cardHolder = [valor for valor in (pd.read_excel(ruta, engine = \"odf\", sheet_name=None)).values()]\n",
        "\n",
        "print(transacciones)\n",
        "print(cardHolder)\n"
      ],
      "metadata": {
        "colab": {
          "base_uri": "https://localhost:8080/"
        },
        "id": "4nwDA916xBPm",
        "outputId": "fcaec866-bd0e-4064-9173-ad08c220755b"
      },
      "execution_count": 13,
      "outputs": [
        {
          "output_type": "stream",
          "name": "stdout",
          "text": [
            "Drive already mounted at /content/drive; to attempt to forcibly remount, call drive.mount(\"/content/drive\", force_remount=True).\n",
            "    CardID TransactionID        Date  Amount   Merchant\n",
            "0      101         T1001  2024-01-01      50     Amazon\n",
            "1      101         T1002  2024-01-02      30  Starbucks\n",
            "2      102         T1003  2024-01-01     100    Walmart\n",
            "3      102         T1004  2024-01-02     200    BestBuy\n",
            "4      101         T1005  2024-01-03      50     Amazon\n",
            "5      103         T1006  2024-01-04      40     Amazon\n",
            "6      102         T1007  2024-01-03     100    Walmart\n",
            "7      102         T1008  2024-01-04     200    BestBuy\n",
            "8      101         T1009  2024-01-01      50       ebay\n",
            "9      103         T1010  2024-01-02      30  Starbucks\n",
            "10     103         T1011  2024-01-03     100       ebay\n",
            "11     102         T1012  2024-01-04     200    BestBuy\n",
            "   CardID            Name                 Email  CreditLimit\n",
            "0     101        John Doe    john.doe@gmail.com         5000\n",
            "1     102      Jane Smith  jane.smith@yahoo.com         3000\n",
            "2     103  Armando Bronca   tranqui@hotmail.com         2000\n"
          ]
        }
      ]
    },
    {
      "cell_type": "markdown",
      "source": [
        "Ejercicio 2."
      ],
      "metadata": {
        "id": "EHrWgXlN38y3"
      }
    },
    {
      "cell_type": "code",
      "source": [
        "def agruparDataframes(transacciones, cardHolder):\n",
        "  listaCompras = list()\n",
        "  compras101 = transacciones[transacciones['CardID'] == 101]['Amount']\n",
        "  compras102 = transacciones[transacciones['CardID'] == 102]['Amount']\n",
        "  compras103 = transacciones[transacciones['CardID'] == 103]['Amount']\n",
        "  aux = 0\n",
        "  for compra1 in compras101:\n",
        "    aux += compra1\n",
        "  listaCompras.append(aux)\n",
        "  aux = 0\n",
        "  for compra2 in compras102:\n",
        "    aux += compra2\n",
        "  listaCompras.append(aux)\n",
        "  aux = 0\n",
        "  for compra3 in compras103:\n",
        "    aux += compra3\n",
        "  listaCompras.append(aux)\n",
        "  cardHolder['TotalTransactions'] = listaCompras\n",
        "  return cardHolder\n",
        "\n",
        "print(agruparDataframes(transacciones, cardHolder))\n"
      ],
      "metadata": {
        "colab": {
          "base_uri": "https://localhost:8080/"
        },
        "id": "INHgUlGn3__G",
        "outputId": "775ba7a7-6753-4790-aece-256ac8a5a020"
      },
      "execution_count": 53,
      "outputs": [
        {
          "output_type": "stream",
          "name": "stdout",
          "text": [
            "   CardID            Name                 Email  CreditLimit  \\\n",
            "0     101        John Doe    john.doe@gmail.com         5000   \n",
            "1     102      Jane Smith  jane.smith@yahoo.com         3000   \n",
            "2     103  Armando Bronca   tranqui@hotmail.com         2000   \n",
            "\n",
            "   TotalTransactions  \n",
            "0                180  \n",
            "1                800  \n",
            "2                170  \n"
          ]
        }
      ]
    },
    {
      "cell_type": "markdown",
      "source": [
        "Ejercicio 3."
      ],
      "metadata": {
        "id": "hwgLe_xH7TZf"
      }
    },
    {
      "cell_type": "code",
      "source": [
        "def transaccionesMerchant(transacciones, cardHolder):\n",
        "  merchantDiferente = []\n",
        "  for columna in transacciones[\"Merchant\"]:\n",
        "    if columna not in merchantDiferente:\n",
        "      merchantDiferente.append(columna)\n",
        "  objetoContar = {}\n",
        "  for i in merchantDiferente:\n",
        "    total = transacciones[transacciones['Merchant'] == i]\n",
        "    objetoContar[i] = [len(total), total['Amount'].sum()]\n",
        "\n",
        "  df = pd.DataFrame(merchantDiferente, columns=[\"Merchant\"])\n",
        "  df[\"TotalTransactions\"] = [valor[1] for valor in objetoContar.values()]\n",
        "  df[\"CountTransactions\"] = [valor[0] for valor in objetoContar.values()]\n",
        "  return df\n",
        "\n",
        "print(transaccionesMerchant(transacciones, cardHolder))"
      ],
      "metadata": {
        "colab": {
          "base_uri": "https://localhost:8080/"
        },
        "id": "T5jPPzXl7VXP",
        "outputId": "aaa0e6ea-f0af-47c5-8856-b4711036f255"
      },
      "execution_count": 122,
      "outputs": [
        {
          "output_type": "stream",
          "name": "stdout",
          "text": [
            "    Merchant  TotalTransactions  CountTransactions\n",
            "0     Amazon                140                  3\n",
            "1  Starbucks                 60                  2\n",
            "2    Walmart                200                  2\n",
            "3    BestBuy                600                  3\n",
            "4       ebay                150                  2\n"
          ]
        }
      ]
    },
    {
      "cell_type": "markdown",
      "source": [
        "Ejercicio 4."
      ],
      "metadata": {
        "id": "fpeWahTDCZZA"
      }
    },
    {
      "cell_type": "code",
      "source": [
        "def agruparDataframes(transacciones, cardHolder):\n",
        "  listaCompras = list()\n",
        "  compras101 = transacciones[transacciones['CardID'] == 101]['Amount']\n",
        "  compras102 = transacciones[transacciones['CardID'] == 102]['Amount']\n",
        "  compras103 = transacciones[transacciones['CardID'] == 103]['Amount']\n",
        "  aux = 0\n",
        "  for compra1 in compras101:\n",
        "    aux += compra1\n",
        "  listaCompras.append(aux)\n",
        "  aux = 0\n",
        "  for compra2 in compras102:\n",
        "    aux += compra2\n",
        "  listaCompras.append(aux)\n",
        "  aux = 0\n",
        "  for compra3 in compras103:\n",
        "    aux += compra3\n",
        "  listaCompras.append(aux)\n",
        "  cardHolder['TotalTransactions'] = listaCompras\n",
        "  return cardHolder\n",
        "\n",
        "df = agruparDataframes(transacciones, cardHolder)\n",
        "df[[\"TotalTransactions\", \"CreditLimit\", \"CardID\"]].plot.bar(x=\"CardID\", xlabel=\"\", stacked=True, color=[\"red\", \"green\"])"
      ],
      "metadata": {
        "colab": {
          "base_uri": "https://localhost:8080/",
          "height": 459
        },
        "id": "nYUzO09ECazH",
        "outputId": "dc9a5fa3-1a27-4b7e-efb0-bd7a2b6203c2"
      },
      "execution_count": 95,
      "outputs": [
        {
          "output_type": "execute_result",
          "data": {
            "text/plain": [
              "<Axes: >"
            ]
          },
          "metadata": {},
          "execution_count": 95
        },
        {
          "output_type": "display_data",
          "data": {
            "text/plain": [
              "<Figure size 640x480 with 1 Axes>"
            ],
            "image/png": "[encoded data removed]"
          },
          "metadata": {}
        }
      ]
    },
    {
      "cell_type": "markdown",
      "source": [
        "Ejercicio 5."
      ],
      "metadata": {
        "id": "ZiXJiI3PDojA"
      }
    },
    {
      "cell_type": "code",
      "source": [
        "def creditosGastados(transacciones, cardHolder):\n",
        "  totalCompras = transacciones.groupby('CardID').sum()['Amount']\n",
        "  cardHolder[\"CreditosLibres\"] = cardHolder['CreditLimit'] - list(totalCompras)\n",
        "  return cardHolder\n",
        "\n",
        "df = creditosGastados(transacciones, cardHolder)\n",
        "df[[\"CreditLimit\", \"CreditosLibres\", \"CardID\"]].plot.bar(x=\"CardID\", xlabel=\"\", color=[\"red\", \"green\"])"
      ],
      "metadata": {
        "colab": {
          "base_uri": "https://localhost:8080/",
          "height": 459
        },
        "id": "oLqa1-CHDs-w",
        "outputId": "5023bd7b-2039-4f73-af93-08634bc44175"
      },
      "execution_count": 99,
      "outputs": [
        {
          "output_type": "execute_result",
          "data": {
            "text/plain": [
              "<Axes: >"
            ]
          },
          "metadata": {},
          "execution_count": 99
        },
        {
          "output_type": "display_data",
          "data": {
            "text/plain": [
              "<Figure size 640x480 with 1 Axes>"
            ],
            "image/png": "[encoded data removed]"
          },
          "metadata": {}
        }
      ]
    }
  ]
}