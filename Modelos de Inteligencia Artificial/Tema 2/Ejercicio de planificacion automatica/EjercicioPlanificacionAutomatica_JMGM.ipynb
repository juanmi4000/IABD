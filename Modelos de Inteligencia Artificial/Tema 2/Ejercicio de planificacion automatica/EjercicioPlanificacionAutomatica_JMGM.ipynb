{
  "nbformat": 4,
  "nbformat_minor": 0,
  "metadata": {
    "colab": {
      "provenance": []
    },
    "kernelspec": {
      "name": "python3",
      "display_name": "Python 3"
    },
    "language_info": {
      "name": "python"
    }
  },
  "cells": [
    {
      "cell_type": "code",
      "execution_count": 4,
      "metadata": {
        "id": "11UpNwDjq8zA"
      },
      "outputs": [],
      "source": [
        "class RobotPintor:\n",
        "    def __init__(self):\n",
        "        # Estado inicial\n",
        "        self.robot = (0, 0)  # Posición inicial del robot\n",
        "        self.celdas = {(x, y): \"sin pintar\" for x in range(3) for y in range(3)}  # Todas las celdas están sin pintar\n",
        "\n",
        "    def mostrarEstado(self):\n",
        "        rango = 3\n",
        "        print(\"Posición del robot:\", self.robot)\n",
        "        print(\"Estado de las celdas: \")\n",
        "        for y in range(rango):\n",
        "          for x in range(rango):\n",
        "            fila = self.celdas[(x, y)]\n",
        "            print(fila)\n",
        "\n",
        "    def mover(self, destino):\n",
        "        if destino in self.celdas:\n",
        "            print(f\"Mover robot de {self.robot} a {destino}\")\n",
        "            self.robot = destino\n",
        "        else:\n",
        "            print(\"Movimiento inválido\")\n",
        "\n",
        "    def pintarCelda(self):\n",
        "        if self.celdas[self.robot] == \"sin pintar\":\n",
        "            print(f\"Pintar la celda {self.robot}\")\n",
        "            self.celdas[self.robot] = \"libre\"\n",
        "            self.celdas[self.robot] = \"celda pintada\"\n",
        "        else:\n",
        "            print(f\"La celda{self.robot} ya está pintada\")\n",
        "\n",
        "    def objetivoCumplido(self):\n",
        "        return all(estado == \"pintada\" for estado in self.celdas.values())"
      ]
    },
    {
      "cell_type": "code",
      "source": [
        "# Función principal para resolver el problema\n",
        "def resolverProblema():\n",
        "    robot = RobotPintor()\n",
        "\n",
        "    print(\"\\nEstado inicial:\")\n",
        "    robot.mostrarEstado()\n",
        "\n",
        "    # Planificación semimanual\n",
        "    movimientos = [(0, 0), (1, 0), (2, 0), (2, 1), (1,1), (0, 1), (0,2), (1, 2), (2, 2), (4, 1)]\n",
        "\n",
        "    for destino in movimientos:\n",
        "      robot.mover(destino)\n",
        "      robot.pintarCelda()\n",
        "\n",
        "    print(\"\\nEstado final:\")\n",
        "    robot.mostrarEstado()\n",
        "\n",
        "    # Verificar si se cumplió el objetivo\n",
        "    if robot.objetivoCumplido():\n",
        "        print(\"¡Objetivo alcanzado! Todas las celdas están pintadas\")\n",
        "    else:\n",
        "        print(\"El objetivo no se alcanzó.\")\n",
        "\n",
        "resolverProblema()"
      ],
      "metadata": {
        "colab": {
          "base_uri": "https://localhost:8080/"
        },
        "id": "UsNaNu0qrIuL",
        "outputId": "8e0bd99f-4d13-48c4-876d-7d36a460e17e"
      },
      "execution_count": 6,
      "outputs": [
        {
          "output_type": "stream",
          "name": "stdout",
          "text": [
            "\n",
            "Estado inicial:\n",
            "Posición del robot: (0, 0)\n",
            "Estado de las celdas: \n",
            "sin pintar\n",
            "sin pintar\n",
            "sin pintar\n",
            "sin pintar\n",
            "sin pintar\n",
            "sin pintar\n",
            "sin pintar\n",
            "sin pintar\n",
            "sin pintar\n",
            "Mover robot de (0, 0) a (0, 0)\n",
            "Pintar la celda (0, 0)\n",
            "Mover robot de (0, 0) a (1, 0)\n",
            "Pintar la celda (1, 0)\n",
            "Mover robot de (1, 0) a (2, 0)\n",
            "Pintar la celda (2, 0)\n",
            "Mover robot de (2, 0) a (2, 1)\n",
            "Pintar la celda (2, 1)\n",
            "Mover robot de (2, 1) a (1, 1)\n",
            "Pintar la celda (1, 1)\n",
            "Mover robot de (1, 1) a (0, 1)\n",
            "Pintar la celda (0, 1)\n",
            "Mover robot de (0, 1) a (0, 2)\n",
            "Pintar la celda (0, 2)\n",
            "Mover robot de (0, 2) a (1, 2)\n",
            "Pintar la celda (1, 2)\n",
            "Mover robot de (1, 2) a (2, 2)\n",
            "Pintar la celda (2, 2)\n",
            "Movimiento inválido\n",
            "La celda(2, 2) ya está pintada\n",
            "\n",
            "Estado final:\n",
            "Posición del robot: (2, 2)\n",
            "Estado de las celdas: \n",
            "celda pintada\n",
            "celda pintada\n",
            "celda pintada\n",
            "celda pintada\n",
            "celda pintada\n",
            "celda pintada\n",
            "celda pintada\n",
            "celda pintada\n",
            "celda pintada\n",
            "El objetivo no se alcanzó.\n"
          ]
        }
      ]
    }
  ]
}